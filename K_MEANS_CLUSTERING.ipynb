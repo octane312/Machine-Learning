{
  "nbformat": 4,
  "nbformat_minor": 0,
  "metadata": {
    "colab": {
      "provenance": [],
      "toc_visible": true,
      "authorship_tag": "ABX9TyOZXPbGk6u39BLwFVS4NWvo",
      "include_colab_link": true
    },
    "kernelspec": {
      "name": "python3",
      "display_name": "Python 3"
    },
    "language_info": {
      "name": "python"
    }
  },
  "cells": [
    {
      "cell_type": "markdown",
      "metadata": {
        "id": "view-in-github",
        "colab_type": "text"
      },
      "source": [
        "<a href=\"https://colab.research.google.com/github/octane312/Machine-Learning/blob/main/K_MEANS_CLUSTERING.ipynb\" target=\"_parent\"><img src=\"https://colab.research.google.com/assets/colab-badge.svg\" alt=\"Open In Colab\"/></a>"
      ]
    },
    {
      "cell_type": "markdown",
      "source": [
        "# **K MEANS CLUSTERING**"
      ],
      "metadata": {
        "id": "txYjRMCE8N4E"
      }
    },
    {
      "cell_type": "markdown",
      "source": [
        "## **IMPORTING MODULES**\n"
      ],
      "metadata": {
        "id": "NmwnWi058VpW"
      }
    },
    {
      "cell_type": "code",
      "execution_count": null,
      "metadata": {
        "id": "L70ytQ368I76"
      },
      "outputs": [],
      "source": [
        "from sklearn.metrics import silhouette_score\n",
        "from sklearn.cluster import KMeans\n",
        "import numpy as np\n",
        "import matplotlib.pyplot as plt"
      ]
    },
    {
      "cell_type": "markdown",
      "source": [
        "## **DATASET**"
      ],
      "metadata": {
        "id": "Bw1feUg79EzB"
      }
    },
    {
      "cell_type": "code",
      "source": [
        "X=np.array([[1,2],[1,4],[1,0],[4,2],[4,4],[4,0],[10,2],[10,4],[10,0]])\n",
        "X"
      ],
      "metadata": {
        "colab": {
          "base_uri": "https://localhost:8080/"
        },
        "id": "w6O-dP289H2Y",
        "outputId": "a8c652e1-2deb-443e-94bf-e3f87515da96"
      },
      "execution_count": null,
      "outputs": [
        {
          "output_type": "execute_result",
          "data": {
            "text/plain": [
              "array([[ 1,  2],\n",
              "       [ 1,  4],\n",
              "       [ 1,  0],\n",
              "       [ 4,  2],\n",
              "       [ 4,  4],\n",
              "       [ 4,  0],\n",
              "       [10,  2],\n",
              "       [10,  4],\n",
              "       [10,  0]])"
            ]
          },
          "metadata": {},
          "execution_count": 2
        }
      ]
    },
    {
      "cell_type": "markdown",
      "source": [
        "## **CREATING MODEL**"
      ],
      "metadata": {
        "id": "SA4HtBSt9mhp"
      }
    },
    {
      "cell_type": "code",
      "source": [
        "KM=KMeans(n_clusters=3,random_state=42,n_init=10)"
      ],
      "metadata": {
        "id": "xVqjXutm9qaD"
      },
      "execution_count": null,
      "outputs": []
    },
    {
      "cell_type": "markdown",
      "source": [
        "## **FITTING MODEL**"
      ],
      "metadata": {
        "id": "9zeBFi7f-TAr"
      }
    },
    {
      "cell_type": "code",
      "source": [
        "KM.fit(X)\n",
        "labels=KM.labels_"
      ],
      "metadata": {
        "id": "dXw2z9Ym-VPC"
      },
      "execution_count": null,
      "outputs": []
    },
    {
      "cell_type": "markdown",
      "source": [
        "## **EVALUATION OF MODEL**"
      ],
      "metadata": {
        "id": "2EXVbDr1_EcO"
      }
    },
    {
      "cell_type": "code",
      "source": [
        "sil_score=silhouette_score(X,labels)\n",
        "print(f\"Silhoutte Score : {sil_score:.2f}\")"
      ],
      "metadata": {
        "colab": {
          "base_uri": "https://localhost:8080/"
        },
        "id": "EJ6pOWKh_JQk",
        "outputId": "96170b42-c24e-43ac-b51a-082de73c7067"
      },
      "execution_count": null,
      "outputs": [
        {
          "output_type": "stream",
          "name": "stdout",
          "text": [
            "Silhoutte Score : 0.39\n"
          ]
        }
      ]
    },
    {
      "cell_type": "markdown",
      "source": [
        "## **DATA VISUALIZATION**"
      ],
      "metadata": {
        "id": "5czNUM3uAUHI"
      }
    },
    {
      "cell_type": "code",
      "source": [
        "plt.scatter(X[:,0],X[:,1],c=labels,cmap=\"viridis\",marker='o',edgecolors='k')\n",
        "plt.scatter(KM.cluster_centers_[:,0],KM.cluster_centers_[:,1],s=100,c='red',marker='x',label='Centroids')\n",
        "plt.title(\"K-means Clustering\")\n",
        "plt.legend()\n",
        "plt.show()"
      ],
      "metadata": {
        "colab": {
          "base_uri": "https://localhost:8080/",
          "height": 452
        },
        "id": "Od7_TrIlAXsl",
        "outputId": "854a5dda-5f83-44c9-ed8b-d9c8b38e10b9"
      },
      "execution_count": null,
      "outputs": [
        {
          "output_type": "display_data",
          "data": {
            "text/plain": [
              "<Figure size 640x480 with 1 Axes>"
            ],
            "image/png": "[encoded data removed]"
          },
          "metadata": {}
        }
      ]
    }
  ]
}