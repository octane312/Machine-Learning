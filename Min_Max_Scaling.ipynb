{
  "nbformat": 4,
  "nbformat_minor": 0,
  "metadata": {
    "colab": {
      "provenance": [],
      "toc_visible": true,
      "authorship_tag": "ABX9TyOit9XP2hB1uOlCASeGaI8t",
      "include_colab_link": true
    },
    "kernelspec": {
      "name": "python3",
      "display_name": "Python 3"
    },
    "language_info": {
      "name": "python"
    }
  },
  "cells": [
    {
      "cell_type": "markdown",
      "metadata": {
        "id": "view-in-github",
        "colab_type": "text"
      },
      "source": [
        "<a href=\"https://colab.research.google.com/github/octane312/Machine-Learning/blob/main/Min_Max_Scaling.ipynb\" target=\"_parent\"><img src=\"https://colab.research.google.com/assets/colab-badge.svg\" alt=\"Open In Colab\"/></a>"
      ]
    },
    {
      "cell_type": "markdown",
      "source": [
        "# **MIN-MAX SCALING, STANDARDIZING AND NORMALIZING**"
      ],
      "metadata": {
        "id": "tj-tPD6IFZo3"
      }
    },
    {
      "cell_type": "markdown",
      "source": [
        "## **IMPORTING MODULES**"
      ],
      "metadata": {
        "id": "Grhl-HwMFZlW"
      }
    },
    {
      "cell_type": "code",
      "execution_count": 4,
      "metadata": {
        "id": "LN7ZsN80FTSm"
      },
      "outputs": [],
      "source": [
        "import numpy as np\n",
        "from sklearn.preprocessing import MinMaxScaler, StandardScaler,Normalizer"
      ]
    },
    {
      "cell_type": "markdown",
      "source": [
        "## **CREATING DATA**"
      ],
      "metadata": {
        "id": "kD-BI93sFT0S"
      }
    },
    {
      "cell_type": "code",
      "source": [
        "np.random.seed(32)\n",
        "X=np.random.randn(7,5)"
      ],
      "metadata": {
        "id": "AsCYPoN9GZQX"
      },
      "execution_count": 16,
      "outputs": []
    },
    {
      "cell_type": "markdown",
      "source": [
        "## **MIN-MAX SCALING**"
      ],
      "metadata": {
        "id": "PitzSPsRFT3t"
      }
    },
    {
      "cell_type": "code",
      "source": [
        "MMS=MinMaxScaler()\n",
        "X_MMS=MMS.fit_transform(X)"
      ],
      "metadata": {
        "id": "SEN9FP9AG6UU"
      },
      "execution_count": 17,
      "outputs": []
    },
    {
      "cell_type": "markdown",
      "source": [
        "## **STARDARDIZING**"
      ],
      "metadata": {
        "id": "MeK-me-gF8R8"
      }
    },
    {
      "cell_type": "code",
      "source": [
        "STD=StandardScaler()\n",
        "X_STD=STD.fit_transform(X)"
      ],
      "metadata": {
        "id": "SLmdpNh9HV2R"
      },
      "execution_count": 19,
      "outputs": []
    },
    {
      "cell_type": "markdown",
      "source": [
        "## **NORMALIZING**"
      ],
      "metadata": {
        "id": "bOPhAAdbF_UP"
      }
    },
    {
      "cell_type": "code",
      "source": [
        "NRZ=Normalizer()\n",
        "X_NRZ=NRZ.fit_transform(X)"
      ],
      "metadata": {
        "id": "NRqF-7HAHWoi"
      },
      "execution_count": 21,
      "outputs": []
    },
    {
      "cell_type": "markdown",
      "source": [
        "## **PRINTING RESULTS**"
      ],
      "metadata": {
        "id": "bf8LgczuGCAu"
      }
    },
    {
      "cell_type": "code",
      "source": [
        "print(f\"Dataset : \\n{X}\\n\\nMin-Max Scaled Result : \\n{X_MMS}\\n\\nStandardized Result : \\n{X_STD}\\n\\nNormalizer Result : \\n{X_NRZ}\")"
      ],
      "metadata": {
        "colab": {
          "base_uri": "https://localhost:8080/"
        },
        "id": "tIqTxn9vHXaD",
        "outputId": "6d0dfe6e-ec71-42b8-9908-dfda39ad1b19"
      },
      "execution_count": 22,
      "outputs": [
        {
          "output_type": "stream",
          "name": "stdout",
          "text": [
            "Dataset : \n",
            "[[-0.34889445  0.98370343  0.58092283  0.07028444  0.77753268]\n",
            " [ 0.58195875  1.47179053  1.66318101 -0.26117712 -0.68867681]\n",
            " [-0.69492326  1.94042346  1.80541519  0.45631385 -0.57481204]\n",
            " [ 0.1141805   1.51358077  0.35113184 -0.08893321  0.91695423]\n",
            " [ 0.50564513 -0.81527111  0.38915095 -0.42496247  0.03962315]\n",
            " [-0.52796392 -0.51030368 -0.88828515  1.08762473  0.67339226]\n",
            " [-1.06731704  1.21804998  3.36371255 -0.8322534  -0.34034838]]\n",
            "\n",
            "Min-Max Scaled Result : \n",
            "[[0.43559882 0.65282073 0.34553358 0.47010163 0.91316713]\n",
            " [1.         0.82994018 0.60006292 0.29745444 0.        ]\n",
            " [0.2257923  1.         0.63351406 0.67117138 0.0709159 ]\n",
            " [0.71637355 0.84510522 0.29149051 0.38717051 1.        ]\n",
            " [0.95372901 0.         0.30043198 0.21214416 0.45359111]\n",
            " [0.32702421 0.11066808 0.         1.         0.84830764]\n",
            " [0.         0.73786156 1.         0.         0.21694177]]\n",
            "\n",
            "Standardized Result : \n",
            "[[-0.24858053  0.15722937 -0.361248    0.1197194   1.06147062]\n",
            " [ 1.36319016  0.65281595  0.4943139  -0.45290469 -1.28692744]\n",
            " [-0.84772882  1.12864946  0.60675486  0.78661345 -1.10455253]\n",
            " [ 0.55323294  0.69524831 -0.5429056  -0.15534074  1.28477929]\n",
            " [ 1.23105326 -1.66938652 -0.5128502  -0.73585586 -0.12042413]\n",
            " [-0.55863901 -1.35973325 -1.52270689  1.87724918  0.89467103]\n",
            " [-1.49252799  0.39517667  1.83864192 -1.43948074 -0.72901684]]\n",
            "\n",
            "Normalizer Result : \n",
            "[[-0.24449271  0.68934407  0.40708988  0.04925281  0.544867  ]\n",
            " [ 0.24136441  0.61041757  0.6897958  -0.10832187 -0.28562518]\n",
            " [-0.24498432  0.68406592  0.63647087  0.16086631 -0.20264099]\n",
            " [ 0.06308439  0.83624885  0.19399929 -0.04913533  0.50661447]\n",
            " [ 0.45155067 -0.72805253  0.34751916 -0.37949953  0.03538422]\n",
            " [-0.30663509 -0.29637824 -0.51590533  0.63167936  0.39109812]\n",
            " [-0.27794473  0.31719776  0.8759592  -0.21673077 -0.08863162]]\n"
          ]
        }
      ]
    }
  ]
}