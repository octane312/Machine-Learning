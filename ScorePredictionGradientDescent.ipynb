{
  "nbformat": 4,
  "nbformat_minor": 0,
  "metadata": {
    "colab": {
      "provenance": [],
      "toc_visible": true,
      "authorship_tag": "ABX9TyPkUApUKxiulm82SgezIa7H",
      "include_colab_link": true
    },
    "kernelspec": {
      "name": "python3",
      "display_name": "Python 3"
    },
    "language_info": {
      "name": "python"
    }
  },
  "cells": [
    {
      "cell_type": "markdown",
      "metadata": {
        "id": "view-in-github",
        "colab_type": "text"
      },
      "source": [
        "<a href=\"https://colab.research.google.com/github/octane312/Machine-Learning/blob/main/ScorePredictionGradientDescent.ipynb\" target=\"_parent\"><img src=\"https://colab.research.google.com/assets/colab-badge.svg\" alt=\"Open In Colab\"/></a>"
      ]
    },
    {
      "cell_type": "markdown",
      "source": [
        "# **SCORE PREDICTION USING GRADIENT DESCENT ALGORITHM**"
      ],
      "metadata": {
        "id": "x8D5qdwr2pLB"
      }
    },
    {
      "cell_type": "markdown",
      "source": [
        "## **IMPORTING MODULES**"
      ],
      "metadata": {
        "id": "FnU9ThgQ2pFa"
      }
    },
    {
      "cell_type": "code",
      "source": [
        "import numpy as np\n",
        "import math as m\n",
        "import pandas as pd\n",
        "from sklearn.linear_model import LinearRegression"
      ],
      "metadata": {
        "id": "AIEG_Rw72xzu"
      },
      "execution_count": 30,
      "outputs": []
    },
    {
      "cell_type": "markdown",
      "source": [
        "## **LOADING DATASET**"
      ],
      "metadata": {
        "id": "ktz-a4Pg2yKR"
      }
    },
    {
      "cell_type": "code",
      "execution_count": 31,
      "metadata": {
        "id": "BBSYRiHQ2k5u"
      },
      "outputs": [],
      "source": [
        "data=pd.read_csv(\"https://raw.githubusercontent.com/codebasics/py/refs/heads/master/ML/3_gradient_descent/Exercise/test_scores.csv\")\n",
        "X=data[[\"math\"]]\n",
        "Y=data[\"cs\"]\n"
      ]
    },
    {
      "cell_type": "markdown",
      "source": [
        "## **SETTING GRADIENT DESCENT ALGORITHM**"
      ],
      "metadata": {
        "id": "3PYujDiC202Y"
      }
    },
    {
      "cell_type": "code",
      "source": [
        "def gradient_descent(x,y):\n",
        "  m_cur=0\n",
        "  b_cur=0\n",
        "  iteration=1000000\n",
        "  n=len(x)\n",
        "  learnrate=0.0002\n",
        "  cost_prev=0\n",
        "  for i in range(iteration):\n",
        "    y_predict=m_cur*x+b_cur\n",
        "    cost=(1/n)*sum((y-y_predict)**2)\n",
        "    bd=(-2/n)*sum(y-y_predict)\n",
        "    md=(-2/n)*sum(x*(y-y_predict))\n",
        "    m_cur=m_cur-learnrate*md\n",
        "    b_cur=b_cur-learnrate*bd\n",
        "    if(m.isclose(cost,cost_prev,rel_tol=1e-20)):\n",
        "      break\n",
        "    cost_prev=cost\n",
        "  return m_cur,b_cur"
      ],
      "metadata": {
        "id": "lXLTCyYS25ih"
      },
      "execution_count": 32,
      "outputs": []
    },
    {
      "cell_type": "markdown",
      "source": [
        "## **MODEL USING LINEAR REGRESSION**"
      ],
      "metadata": {
        "id": "IwTu-ybHCg53"
      }
    },
    {
      "cell_type": "code",
      "source": [
        "model=LinearRegression()\n",
        "model.fit(X,Y)\n",
        "print(\"Coeeficient : \",model.coef_)\n",
        "print(\"Intercept : \",model.intercept_)"
      ],
      "metadata": {
        "colab": {
          "base_uri": "https://localhost:8080/"
        },
        "id": "DEnyI0b2CmSq",
        "outputId": "68b4fcd3-f3d1-4d47-af55-3b11fd114ee7"
      },
      "execution_count": 33,
      "outputs": [
        {
          "output_type": "stream",
          "name": "stdout",
          "text": [
            "Coeeficient :  [1.01773624]\n",
            "Intercept :  1.9152193111569034\n"
          ]
        }
      ]
    },
    {
      "cell_type": "markdown",
      "source": [
        "## **MODEL USING GRADIENT DESCENT**"
      ],
      "metadata": {
        "id": "RfQYCgEz8-ia"
      }
    },
    {
      "cell_type": "code",
      "source": [
        "X=data['math']\n",
        "m,b=gradient_descent(X,Y)\n",
        "print(f\"Coefficient : {m}\\nIntercept : {b}\")"
      ],
      "metadata": {
        "colab": {
          "base_uri": "https://localhost:8080/"
        },
        "id": "f-Qf9Lc_9j7i",
        "outputId": "185326f8-884a-4f73-e00b-8afdcc474016"
      },
      "execution_count": 34,
      "outputs": [
        {
          "output_type": "stream",
          "name": "stdout",
          "text": [
            "Coefficient : 1.0177381667350405\n",
            "Intercept : 1.9150826165722297\n"
          ]
        }
      ]
    }
  ]
}